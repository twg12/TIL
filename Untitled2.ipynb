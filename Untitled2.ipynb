{
 "cells": [
  {
   "cell_type": "code",
   "execution_count": 1,
   "metadata": {},
   "outputs": [
    {
     "name": "stdout",
     "output_type": "stream",
     "text": [
      "XTRdBWJdl4pV1%2FvSfZeu4FoGpl2eGP%2FzlR5eGh%2F9M8jbOv4HPFZI%2BM7ckZstS8OzkMKHNBkpAtdZX6T8VoRl4Q%3D%3D\n"
     ]
    }
   ],
   "source": [
    "import os\n",
    "\n",
    "key = os.environ['ANIMAL_API_KEY']\n",
    "\n",
    "print(key)"
   ]
  },
  {
   "cell_type": "code",
   "execution_count": 2,
   "metadata": {},
   "outputs": [
    {
     "name": "stdout",
     "output_type": "stream",
     "text": [
      "XTRdBWJdl4pV1/vSfZeu4FoGpl2eGP/zlR5eGh/9M8jbOv4HPFZI+M7ckZstS8OzkMKHNBkpAtdZX6T8VoRl4Q==\n"
     ]
    }
   ],
   "source": [
    "from urllib.parse import unquote\n",
    "\n",
    "API_KEY = unquote(key)\n",
    "\n",
    "print(API_KEY)"
   ]
  },
  {
   "cell_type": "code",
   "execution_count": 3,
   "metadata": {},
   "outputs": [
    {
     "data": {
      "text/plain": [
       "'2.22.0'"
      ]
     },
     "execution_count": 3,
     "metadata": {},
     "output_type": "execute_result"
    }
   ],
   "source": [
    "import requests\n",
    "\n",
    "requests.__version__"
   ]
  },
  {
   "cell_type": "code",
   "execution_count": 4,
   "metadata": {},
   "outputs": [
    {
     "name": "stdout",
     "output_type": "stream",
     "text": [
      "<?xml version=\"1.0\" encoding=\"UTF-8\" standalone=\"yes\"?><response><header><resultCode>00</resultCode><resultMsg>NORMAL SERVICE.</resultMsg></header><body><items><item><age>2019(년생)</age><careAddr>경상남도 거창군 거창읍 거창대로 13-2 (거창읍, 칠성슈퍼) </careAddr><careNm>나래동물병원</careNm><careTel>055-942-8875</careTel><chargeNm>거창군</chargeNm><colorCd>진갈색</colorCd><desertionNo>448547201900361</desertionNo><filename>http://www.animal.go.kr/files/shelter/2019/09/201909191309413_s.jpg</filename><happenDt>20190919</happenDt><happenPlace>거창읍 동변리 1074</happenPlace><kindCd>[개] 믹스견</kindCd><neuterYn>U</neuterYn><noticeEdt>20190930</noticeEdt><noticeNo>경남-거창-2019-00362</noticeNo><noticeSdt>20190919</noticeSdt><officetel>055-940-8140</officetel><orgNm>경상남도 거창군</orgNm><popfile>http://www.animal.go.kr/files/shelter/2019/09/201909191309413.jpeg</popfile><processState>보호중</processState><sexCd>M</sexCd><specialMark>3개월 가량 강아지, 온순함</specialMark><weight>1.5(Kg)</weight></item></items><numOfRows>1</numOfRows><pageNo>1</pageNo><totalCount>7219</totalCount></body></response>\n"
     ]
    }
   ],
   "source": [
    "url = 'http://openapi.animal.go.kr/openapi/service/rest/abandonmentPublicSrvc/abandonmentPublic'\n",
    "\n",
    "payload = {\n",
    "    'serviceKey': API_KEY,\n",
    "    'bgnde': '20190901',\n",
    "    'endde': '20190930',\n",
    "    'numOfRows': 1,\n",
    "}\n",
    "\n",
    "response = requests.get(url, params=payload)\n",
    "\n",
    "print(response.text)"
   ]
  },
  {
   "cell_type": "code",
   "execution_count": 7,
   "metadata": {},
   "outputs": [
    {
     "name": "stdout",
     "output_type": "stream",
     "text": [
      "<Response [200]>\n"
     ]
    }
   ],
   "source": [
    "url = 'http://openapi.animal.go.kr/openapi/service/rest/abandonmentPublicSrvc/abandonmentPublic'\n",
    "\n",
    "payload = {\n",
    "    'serviceKey': API_KEY,\n",
    "    'bgnde': '20190901',\n",
    "    'endde': '20190930',\n",
    "    'numOfRows': 20,\n",
    "}\n",
    "\n",
    "response = requests.get(url, params=payload)\n",
    "\n",
    "print(response)"
   ]
  },
  {
   "cell_type": "code",
   "execution_count": 8,
   "metadata": {},
   "outputs": [
    {
     "name": "stdout",
     "output_type": "stream",
     "text": [
      "[개] 믹스견 | 3개월 가량 강아지, 온순함\n",
      "[개] 믹스견 | 3개월 가량 강아지, 온순함\n",
      "[개] 믹스견 | 3개월 가량 강아지\n",
      "[개] 믹스견 | 3개월 가량 강아지, 온순함\n",
      "[개] 믹스견 | 3개월 가량 강아지, 온순함\n",
      "[개] 믹스견 | 특이사항 없음\n",
      "[개] 믹스견 | 칩X, 쫑긋한 귀, 윤기나는 털, 우아한 분위기, 사람을 좋아하고 사랑스러움\n",
      "[개] 믹스견 | 칩X, 가을 햇살처럼 밝은아이, 처진귀,동그란눈 까맣고 매끈한 코,짧은 다리\n",
      "[개] 믹스견 | 사지가 끝이 흰색임\n",
      "[개] 믹스견 | 겁이많음\n",
      "[개] 믹스견 | 공격적임\n",
      "[개] 믹스견 | 매우 순하고 사람을 잘 따름, 시베리안 잡종\n",
      "[개] 믹스견 | 마름.\n",
      "[개] 믹스견 | 믹스 갈색 수컷 3살 추정\n",
      "[개] 믹스견 | 흰팩에 꼬리가 길고 꼬리털이 복실복실함\n",
      "[개] 비숑 프리제 | 엄청난 똥꼬 발랄 엄청난 애교 엄청 사랑스러움 견주분을 발랄하게 기다라고 있습니다.\n",
      "[개] 믹스견 | 119소방대원을 매우 좋아함 성격이 매우 좋음.\n",
      "[고양이] 한국 고양이 | 매우 온순하며 사람을 좋아함\n",
      "[개] 믹스견 | 매우 온순하며 사람을 좋아함\n",
      "[개] 믹스견 | 매우 온순하며 사람을 좋아함\n"
     ]
    }
   ],
   "source": [
    "import xml.etree.ElementTree as ET\n",
    "\n",
    "# XML 데이터 파싱\n",
    "\n",
    "root = ET.fromstring(response.text)\n",
    "\n",
    "# item 목록에 있는 kindCd와 specialMark 항목 출력\n",
    "\n",
    "for item in root.iter('item'):\n",
    "    kind = item.find('kindCd').text\n",
    "    description = item.find('specialMark').text\n",
    "    print(f'{kind} | {description}')"
   ]
  },
  {
   "cell_type": "code",
   "execution_count": 9,
   "metadata": {},
   "outputs": [
    {
     "data": {
      "text/plain": [
       "<Element 'item' at 0x000002087D5BDBD8>"
      ]
     },
     "execution_count": 9,
     "metadata": {},
     "output_type": "execute_result"
    }
   ],
   "source": [
    "item = next(root.iter('item'))\n",
    "\n",
    "item"
   ]
  },
  {
   "cell_type": "code",
   "execution_count": 10,
   "metadata": {},
   "outputs": [
    {
     "name": "stdout",
     "output_type": "stream",
     "text": [
      "['age', 'careAddr', 'careNm', 'careTel', 'chargeNm', 'colorCd', 'desertionNo', 'filename', 'happenDt', 'happenPlace', 'kindCd', 'neuterYn', 'noticeEdt', 'noticeNo', 'noticeSdt', 'officetel', 'orgNm', 'popfile', 'processState', 'sexCd', 'specialMark', 'weight']\n"
     ]
    }
   ],
   "source": [
    "columns = []\n",
    "\n",
    "# Accumulation\n",
    "for child in list(item):\n",
    "    columns.append(child.tag)\n",
    "\n",
    "# 컬럼 목록 확인\n",
    "print(columns)"
   ]
  },
  {
   "cell_type": "code",
   "execution_count": 11,
   "metadata": {},
   "outputs": [
    {
     "data": {
      "text/plain": [
       "'0.24.2'"
      ]
     },
     "execution_count": 11,
     "metadata": {},
     "output_type": "execute_result"
    }
   ],
   "source": [
    "# pandas 사용\n",
    "\n",
    "import pandas as pd\n",
    "\n",
    "pd.__version__\n"
   ]
  },
  {
   "cell_type": "code",
   "execution_count": 12,
   "metadata": {},
   "outputs": [
    {
     "name": "stdout",
     "output_type": "stream",
     "text": [
      "갯수: 20\n",
      "\n",
      "{'age': '2019(년생)', 'careAddr': '경상남도 거창군 거창읍 거창대로 13-2 (거창읍, 칠성슈퍼) ', 'careNm': '나래동물병원', 'careTel': '055-942-8875', 'chargeNm': '거창군', 'colorCd': '진갈색', 'desertionNo': '448547201900361', 'filename': 'http://www.animal.go.kr/files/shelter/2019/09/201909191309413_s.jpg', 'happenDt': '20190919', 'happenPlace': '거창읍 동변리 1074', 'kindCd': '[개] 믹스견', 'neuterYn': 'U', 'noticeEdt': '20190930', 'noticeNo': '경남-거창-2019-00362', 'noticeSdt': '20190919', 'officetel': '055-940-8140', 'orgNm': '경상남도 거창군', 'popfile': 'http://www.animal.go.kr/files/shelter/2019/09/201909191309413.jpeg', 'processState': '보호중', 'sexCd': 'M', 'specialMark': '3개월 가량 강아지, 온순함', 'weight': '1.5(Kg)'}\n"
     ]
    }
   ],
   "source": [
    "rows = []\n",
    "\n",
    "for item in root.iter('item'):\n",
    "    row = {}\n",
    "    for child in list(item):\n",
    "        row[child.tag] = child.text\n",
    "    rows.append(row)\n",
    "\n",
    "print('갯수:', len(rows))\n",
    "print()\n",
    "print(rows[0])"
   ]
  },
  {
   "cell_type": "code",
   "execution_count": 13,
   "metadata": {},
   "outputs": [
    {
     "data": {
      "text/html": [
       "<div>\n",
       "<style scoped>\n",
       "    .dataframe tbody tr th:only-of-type {\n",
       "        vertical-align: middle;\n",
       "    }\n",
       "\n",
       "    .dataframe tbody tr th {\n",
       "        vertical-align: top;\n",
       "    }\n",
       "\n",
       "    .dataframe thead th {\n",
       "        text-align: right;\n",
       "    }\n",
       "</style>\n",
       "<table border=\"1\" class=\"dataframe\">\n",
       "  <thead>\n",
       "    <tr style=\"text-align: right;\">\n",
       "      <th></th>\n",
       "      <th>age</th>\n",
       "      <th>careAddr</th>\n",
       "      <th>careNm</th>\n",
       "      <th>careTel</th>\n",
       "      <th>chargeNm</th>\n",
       "      <th>colorCd</th>\n",
       "      <th>desertionNo</th>\n",
       "      <th>filename</th>\n",
       "      <th>happenDt</th>\n",
       "      <th>happenPlace</th>\n",
       "      <th>...</th>\n",
       "      <th>noticeEdt</th>\n",
       "      <th>noticeNo</th>\n",
       "      <th>noticeSdt</th>\n",
       "      <th>officetel</th>\n",
       "      <th>orgNm</th>\n",
       "      <th>popfile</th>\n",
       "      <th>processState</th>\n",
       "      <th>sexCd</th>\n",
       "      <th>specialMark</th>\n",
       "      <th>weight</th>\n",
       "    </tr>\n",
       "  </thead>\n",
       "  <tbody>\n",
       "    <tr>\n",
       "      <th>0</th>\n",
       "      <td>2019(년생)</td>\n",
       "      <td>경상남도 거창군 거창읍 거창대로 13-2 (거창읍, 칠성슈퍼)</td>\n",
       "      <td>나래동물병원</td>\n",
       "      <td>055-942-8875</td>\n",
       "      <td>거창군</td>\n",
       "      <td>진갈색</td>\n",
       "      <td>448547201900361</td>\n",
       "      <td>http://www.animal.go.kr/files/shelter/2019/09/...</td>\n",
       "      <td>20190919</td>\n",
       "      <td>거창읍 동변리 1074</td>\n",
       "      <td>...</td>\n",
       "      <td>20190930</td>\n",
       "      <td>경남-거창-2019-00362</td>\n",
       "      <td>20190919</td>\n",
       "      <td>055-940-8140</td>\n",
       "      <td>경상남도 거창군</td>\n",
       "      <td>http://www.animal.go.kr/files/shelter/2019/09/...</td>\n",
       "      <td>보호중</td>\n",
       "      <td>M</td>\n",
       "      <td>3개월 가량 강아지, 온순함</td>\n",
       "      <td>1.5(Kg)</td>\n",
       "    </tr>\n",
       "    <tr>\n",
       "      <th>1</th>\n",
       "      <td>2019(년생)</td>\n",
       "      <td>경상남도 거창군 거창읍 거창대로 13-2 (거창읍, 칠성슈퍼)</td>\n",
       "      <td>나래동물병원</td>\n",
       "      <td>055-942-8875</td>\n",
       "      <td>거창군</td>\n",
       "      <td>진갈색</td>\n",
       "      <td>448547201900360</td>\n",
       "      <td>http://www.animal.go.kr/files/shelter/2019/09/...</td>\n",
       "      <td>20190919</td>\n",
       "      <td>거창읍 동변리 1074</td>\n",
       "      <td>...</td>\n",
       "      <td>20190930</td>\n",
       "      <td>경남-거창-2019-00361</td>\n",
       "      <td>20190919</td>\n",
       "      <td>055-940-8140</td>\n",
       "      <td>경상남도 거창군</td>\n",
       "      <td>http://www.animal.go.kr/files/shelter/2019/09/...</td>\n",
       "      <td>보호중</td>\n",
       "      <td>M</td>\n",
       "      <td>3개월 가량 강아지, 온순함</td>\n",
       "      <td>2(Kg)</td>\n",
       "    </tr>\n",
       "    <tr>\n",
       "      <th>2</th>\n",
       "      <td>2019(년생)</td>\n",
       "      <td>경상남도 거창군 거창읍 거창대로 13-2 (거창읍, 칠성슈퍼)</td>\n",
       "      <td>나래동물병원</td>\n",
       "      <td>055-942-8875</td>\n",
       "      <td>거창군</td>\n",
       "      <td>흰색, 검정색</td>\n",
       "      <td>448547201900359</td>\n",
       "      <td>http://www.animal.go.kr/files/shelter/2019/09/...</td>\n",
       "      <td>20190919</td>\n",
       "      <td>거창읍 동변리 1074</td>\n",
       "      <td>...</td>\n",
       "      <td>20190930</td>\n",
       "      <td>경남-거창-2019-00360</td>\n",
       "      <td>20190919</td>\n",
       "      <td>055-940-8140</td>\n",
       "      <td>경상남도 거창군</td>\n",
       "      <td>http://www.animal.go.kr/files/shelter/2019/09/...</td>\n",
       "      <td>보호중</td>\n",
       "      <td>F</td>\n",
       "      <td>3개월 가량 강아지</td>\n",
       "      <td>2(Kg)</td>\n",
       "    </tr>\n",
       "    <tr>\n",
       "      <th>3</th>\n",
       "      <td>2019(년생)</td>\n",
       "      <td>경상남도 거창군 거창읍 거창대로 13-2 (거창읍, 칠성슈퍼)</td>\n",
       "      <td>나래동물병원</td>\n",
       "      <td>055-942-8875</td>\n",
       "      <td>거창군</td>\n",
       "      <td>흑갈색</td>\n",
       "      <td>448547201900358</td>\n",
       "      <td>http://www.animal.go.kr/files/shelter/2019/09/...</td>\n",
       "      <td>20190919</td>\n",
       "      <td>거창읍 동변리 1074</td>\n",
       "      <td>...</td>\n",
       "      <td>20190930</td>\n",
       "      <td>경남-거창-2019-00359</td>\n",
       "      <td>20190919</td>\n",
       "      <td>055-940-8140</td>\n",
       "      <td>경상남도 거창군</td>\n",
       "      <td>http://www.animal.go.kr/files/shelter/2019/09/...</td>\n",
       "      <td>보호중</td>\n",
       "      <td>F</td>\n",
       "      <td>3개월 가량 강아지, 온순함</td>\n",
       "      <td>1.5(Kg)</td>\n",
       "    </tr>\n",
       "    <tr>\n",
       "      <th>4</th>\n",
       "      <td>2019(년생)</td>\n",
       "      <td>경상남도 거창군 거창읍 거창대로 13-2 (거창읍, 칠성슈퍼)</td>\n",
       "      <td>나래동물병원</td>\n",
       "      <td>055-942-8875</td>\n",
       "      <td>거창군</td>\n",
       "      <td>진갈색</td>\n",
       "      <td>448547201900357</td>\n",
       "      <td>http://www.animal.go.kr/files/shelter/2019/09/...</td>\n",
       "      <td>20190919</td>\n",
       "      <td>거창읍 동변리 1074</td>\n",
       "      <td>...</td>\n",
       "      <td>20190930</td>\n",
       "      <td>경남-거창-2019-00358</td>\n",
       "      <td>20190919</td>\n",
       "      <td>055-940-8140</td>\n",
       "      <td>경상남도 거창군</td>\n",
       "      <td>http://www.animal.go.kr/files/shelter/2019/09/...</td>\n",
       "      <td>보호중</td>\n",
       "      <td>F</td>\n",
       "      <td>3개월 가량 강아지, 온순함</td>\n",
       "      <td>2(Kg)</td>\n",
       "    </tr>\n",
       "  </tbody>\n",
       "</table>\n",
       "<p>5 rows × 22 columns</p>\n",
       "</div>"
      ],
      "text/plain": [
       "        age                             careAddr  careNm       careTel  \\\n",
       "0  2019(년생)  경상남도 거창군 거창읍 거창대로 13-2 (거창읍, 칠성슈퍼)   나래동물병원  055-942-8875   \n",
       "1  2019(년생)  경상남도 거창군 거창읍 거창대로 13-2 (거창읍, 칠성슈퍼)   나래동물병원  055-942-8875   \n",
       "2  2019(년생)  경상남도 거창군 거창읍 거창대로 13-2 (거창읍, 칠성슈퍼)   나래동물병원  055-942-8875   \n",
       "3  2019(년생)  경상남도 거창군 거창읍 거창대로 13-2 (거창읍, 칠성슈퍼)   나래동물병원  055-942-8875   \n",
       "4  2019(년생)  경상남도 거창군 거창읍 거창대로 13-2 (거창읍, 칠성슈퍼)   나래동물병원  055-942-8875   \n",
       "\n",
       "  chargeNm  colorCd      desertionNo  \\\n",
       "0      거창군      진갈색  448547201900361   \n",
       "1      거창군      진갈색  448547201900360   \n",
       "2      거창군  흰색, 검정색  448547201900359   \n",
       "3      거창군      흑갈색  448547201900358   \n",
       "4      거창군      진갈색  448547201900357   \n",
       "\n",
       "                                            filename  happenDt   happenPlace  \\\n",
       "0  http://www.animal.go.kr/files/shelter/2019/09/...  20190919  거창읍 동변리 1074   \n",
       "1  http://www.animal.go.kr/files/shelter/2019/09/...  20190919  거창읍 동변리 1074   \n",
       "2  http://www.animal.go.kr/files/shelter/2019/09/...  20190919  거창읍 동변리 1074   \n",
       "3  http://www.animal.go.kr/files/shelter/2019/09/...  20190919  거창읍 동변리 1074   \n",
       "4  http://www.animal.go.kr/files/shelter/2019/09/...  20190919  거창읍 동변리 1074   \n",
       "\n",
       "   ... noticeEdt          noticeNo noticeSdt     officetel     orgNm  \\\n",
       "0  ...  20190930  경남-거창-2019-00362  20190919  055-940-8140  경상남도 거창군   \n",
       "1  ...  20190930  경남-거창-2019-00361  20190919  055-940-8140  경상남도 거창군   \n",
       "2  ...  20190930  경남-거창-2019-00360  20190919  055-940-8140  경상남도 거창군   \n",
       "3  ...  20190930  경남-거창-2019-00359  20190919  055-940-8140  경상남도 거창군   \n",
       "4  ...  20190930  경남-거창-2019-00358  20190919  055-940-8140  경상남도 거창군   \n",
       "\n",
       "                                             popfile processState sexCd  \\\n",
       "0  http://www.animal.go.kr/files/shelter/2019/09/...          보호중     M   \n",
       "1  http://www.animal.go.kr/files/shelter/2019/09/...          보호중     M   \n",
       "2  http://www.animal.go.kr/files/shelter/2019/09/...          보호중     F   \n",
       "3  http://www.animal.go.kr/files/shelter/2019/09/...          보호중     F   \n",
       "4  http://www.animal.go.kr/files/shelter/2019/09/...          보호중     F   \n",
       "\n",
       "       specialMark   weight  \n",
       "0  3개월 가량 강아지, 온순함  1.5(Kg)  \n",
       "1  3개월 가량 강아지, 온순함    2(Kg)  \n",
       "2       3개월 가량 강아지    2(Kg)  \n",
       "3  3개월 가량 강아지, 온순함  1.5(Kg)  \n",
       "4  3개월 가량 강아지, 온순함    2(Kg)  \n",
       "\n",
       "[5 rows x 22 columns]"
      ]
     },
     "execution_count": 13,
     "metadata": {},
     "output_type": "execute_result"
    }
   ],
   "source": [
    "df = pd.DataFrame(rows, columns=columns)\n",
    "\n",
    "df.head()"
   ]
  },
  {
   "cell_type": "code",
   "execution_count": 14,
   "metadata": {},
   "outputs": [
    {
     "data": {
      "text/html": [
       "<div>\n",
       "<style scoped>\n",
       "    .dataframe tbody tr th:only-of-type {\n",
       "        vertical-align: middle;\n",
       "    }\n",
       "\n",
       "    .dataframe tbody tr th {\n",
       "        vertical-align: top;\n",
       "    }\n",
       "\n",
       "    .dataframe thead th {\n",
       "        text-align: right;\n",
       "    }\n",
       "</style>\n",
       "<table border=\"1\" class=\"dataframe\">\n",
       "  <thead>\n",
       "    <tr style=\"text-align: right;\">\n",
       "      <th></th>\n",
       "      <th>age</th>\n",
       "    </tr>\n",
       "  </thead>\n",
       "  <tbody>\n",
       "    <tr>\n",
       "      <th>2019(년생)</th>\n",
       "      <td>10</td>\n",
       "    </tr>\n",
       "    <tr>\n",
       "      <th>2018(년생)</th>\n",
       "      <td>4</td>\n",
       "    </tr>\n",
       "    <tr>\n",
       "      <th>2016(년생)</th>\n",
       "      <td>2</td>\n",
       "    </tr>\n",
       "    <tr>\n",
       "      <th>2017(년생)</th>\n",
       "      <td>1</td>\n",
       "    </tr>\n",
       "    <tr>\n",
       "      <th>2013(년생)</th>\n",
       "      <td>1</td>\n",
       "    </tr>\n",
       "    <tr>\n",
       "      <th>2014(년생)</th>\n",
       "      <td>1</td>\n",
       "    </tr>\n",
       "    <tr>\n",
       "      <th>2015(년생)</th>\n",
       "      <td>1</td>\n",
       "    </tr>\n",
       "  </tbody>\n",
       "</table>\n",
       "</div>"
      ],
      "text/plain": [
       "          age\n",
       "2019(년생)   10\n",
       "2018(년생)    4\n",
       "2016(년생)    2\n",
       "2017(년생)    1\n",
       "2013(년생)    1\n",
       "2014(년생)    1\n",
       "2015(년생)    1"
      ]
     },
     "execution_count": 14,
     "metadata": {},
     "output_type": "execute_result"
    }
   ],
   "source": [
    "data = df['age'].value_counts()\n",
    "\n",
    "pd.DataFrame(data)"
   ]
  },
  {
   "cell_type": "code",
   "execution_count": 15,
   "metadata": {},
   "outputs": [
    {
     "data": {
      "text/html": [
       "<div>\n",
       "<style scoped>\n",
       "    .dataframe tbody tr th:only-of-type {\n",
       "        vertical-align: middle;\n",
       "    }\n",
       "\n",
       "    .dataframe tbody tr th {\n",
       "        vertical-align: top;\n",
       "    }\n",
       "\n",
       "    .dataframe thead th {\n",
       "        text-align: right;\n",
       "    }\n",
       "</style>\n",
       "<table border=\"1\" class=\"dataframe\">\n",
       "  <thead>\n",
       "    <tr style=\"text-align: right;\">\n",
       "      <th></th>\n",
       "      <th>kindCd</th>\n",
       "    </tr>\n",
       "  </thead>\n",
       "  <tbody>\n",
       "    <tr>\n",
       "      <th>[개] 믹스견</th>\n",
       "      <td>18</td>\n",
       "    </tr>\n",
       "    <tr>\n",
       "      <th>[개] 비숑 프리제</th>\n",
       "      <td>1</td>\n",
       "    </tr>\n",
       "    <tr>\n",
       "      <th>[고양이] 한국 고양이</th>\n",
       "      <td>1</td>\n",
       "    </tr>\n",
       "  </tbody>\n",
       "</table>\n",
       "</div>"
      ],
      "text/plain": [
       "              kindCd\n",
       "[개] 믹스견           18\n",
       "[개] 비숑 프리제         1\n",
       "[고양이] 한국 고양이       1"
      ]
     },
     "execution_count": 15,
     "metadata": {},
     "output_type": "execute_result"
    }
   ],
   "source": [
    "data = df['kindCd'].value_counts()\n",
    "\n",
    "pd.DataFrame(data)"
   ]
  },
  {
   "cell_type": "code",
   "execution_count": null,
   "metadata": {},
   "outputs": [],
   "source": []
  }
 ],
 "metadata": {
  "kernelspec": {
   "display_name": "Python 3",
   "language": "python",
   "name": "python3"
  },
  "language_info": {
   "codemirror_mode": {
    "name": "ipython",
    "version": 3
   },
   "file_extension": ".py",
   "mimetype": "text/x-python",
   "name": "python",
   "nbconvert_exporter": "python",
   "pygments_lexer": "ipython3",
   "version": "3.7.3"
  }
 },
 "nbformat": 4,
 "nbformat_minor": 2
}
